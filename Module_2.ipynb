{
 "cells": [
  {
   "cell_type": "code",
   "execution_count": 1,
   "metadata": {},
   "outputs": [],
   "source": [
    "import pandas as pd\n",
    "import re"
   ]
  },
  {
   "cell_type": "markdown",
   "metadata": {},
   "source": [
    "# Regular Expressions (Regex)"
   ]
  },
  {
   "cell_type": "markdown",
   "metadata": {},
   "source": [
    "### Using re.search() like find()"
   ]
  },
  {
   "cell_type": "code",
   "execution_count": null,
   "metadata": {},
   "outputs": [],
   "source": [
    "# using find function\n",
    "data = open(\"./practice_files/mbox-short.txt\")\n",
    "for line in data:\n",
    "    line = line.rstrip()\n",
    "    if line.find('From:') >= 0:\n",
    "        print(line)"
   ]
  },
  {
   "cell_type": "code",
   "execution_count": null,
   "metadata": {},
   "outputs": [],
   "source": [
    "# using re.search()\n",
    "data = open(\"./practice_files/mbox-short.txt\")\n",
    "for info in data:\n",
    "    info = info.rstrip()\n",
    "    if re.search(\"From:\", info):\n",
    "        print(info)"
   ]
  },
  {
   "cell_type": "markdown",
   "metadata": {},
   "source": [
    "### Using re.search() like startswith()"
   ]
  },
  {
   "cell_type": "code",
   "execution_count": null,
   "metadata": {},
   "outputs": [],
   "source": [
    "# the symbol ^ same lang with 'starts with\n",
    "# yung '^From:' means \"I want the line to start with 'F' then followed by the characters 'rom:' \"\n",
    "data = open(\"./practice_files/mbox-short.txt\")\n",
    "for line in data:\n",
    "    line = line.rstrip()\n",
    "    if re.search('^Details:', line):\n",
    "        print(line)\n"
   ]
  },
  {
   "cell_type": "markdown",
   "metadata": {},
   "source": [
    "### Using wild-card characters for creating versatile search patterns"
   ]
  },
  {
   "cell_type": "code",
   "execution_count": null,
   "metadata": {},
   "outputs": [],
   "source": [
    "# initial example of using wild-card characters for the search pattern\n",
    "# translating the search pattern to english: '^X.*:' = \"Line that starts with 'X', followed by any number of any characters (the '.*' part) but ends with ':' \"\n",
    "data = open(\"./practice_files/mbox-short.txt\")\n",
    "for line in data:\n",
    "    line = line.rstrip()\n",
    "    if re.search('^X.*:', line):\n",
    "        print(line)"
   ]
  },
  {
   "cell_type": "code",
   "execution_count": null,
   "metadata": {},
   "outputs": [],
   "source": []
  }
 ],
 "metadata": {
  "kernelspec": {
   "display_name": "Python 3",
   "language": "python",
   "name": "python3"
  },
  "language_info": {
   "codemirror_mode": {
    "name": "ipython",
    "version": 3
   },
   "file_extension": ".py",
   "mimetype": "text/x-python",
   "name": "python",
   "nbconvert_exporter": "python",
   "pygments_lexer": "ipython3",
   "version": "3.11.0"
  }
 },
 "nbformat": 4,
 "nbformat_minor": 2
}
